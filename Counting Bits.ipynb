{
 "cells": [
  {
   "cell_type": "markdown",
   "metadata": {},
   "source": [
    "# Counting Bits\n",
    "\n",
    "Given a non negative integer number num. For every numbers i in the range 0 ≤ i ≤ num calculate the number of 1's in their binary representation and return them as an array.\n",
    "\n",
    "**Example:**\n",
    "For num = 5 you should return [0,1,1,2,1,2].\n",
    "\n",
    "**Follow up:**\n",
    "\n",
    "It is very easy to come up with a solution with run time O(n*sizeof(integer)). But can you do it in linear time O(n) /possibly in a single pass?\n",
    "Space complexity should be O(n).\n",
    "Can you do it like a boss? Do it without using any builtin function like __builtin_popcount in c++ or in any other language.\n",
    "\n",
    "**Hint:**\n",
    "1. You should make use of what you have produced already.\n",
    "2. Divide the numbers in ranges like [2-3], [4-7], [8-15] and so on. And try to generate new range from previous.\n",
    "3. does the odd/even status of the number help you in calculating the number of 1s?\n"
   ]
  },
  {
   "cell_type": "code",
   "execution_count": null,
   "metadata": {
    "collapsed": true
   },
   "outputs": [],
   "source": []
  }
 ],
 "metadata": {
  "kernelspec": {
   "display_name": "Python [Root]",
   "language": "python",
   "name": "Python [Root]"
  },
  "language_info": {
   "codemirror_mode": {
    "name": "ipython",
    "version": 2
   },
   "file_extension": ".py",
   "mimetype": "text/x-python",
   "name": "python",
   "nbconvert_exporter": "python",
   "pygments_lexer": "ipython2",
   "version": "2.7.12"
  }
 },
 "nbformat": 4,
 "nbformat_minor": 0
}
