{
 "cells": [
  {
   "cell_type": "markdown",
   "metadata": {},
   "source": [
    "# N-Queens II\n",
    "\n",
    "Follow up for N-Queens problem.\n",
    "\n",
    "Now, instead outputting board configurations, return the total number of distinct solutions."
   ]
  },
  {
   "cell_type": "code",
   "execution_count": 10,
   "metadata": {},
   "outputs": [],
   "source": [
    "class Solution:\n",
    "    def totalNQueens(self, n):\n",
    "        \"\"\"\n",
    "        :type n: int\n",
    "        :rtype: int\n",
    "        \"\"\"\n",
    "        def check(k, j):  # check if the kth queen can be put in column j!\n",
    "            for i in range(k):\n",
    "                if board[i]==j or abs(k-i)==abs(board[i]-j):\n",
    "                    return False\n",
    "            return True\n",
    "        board=[-1 for i in range(n)]\n",
    "        row=0; col=0; sum=0\n",
    "        while row<n:\n",
    "            while col<n:\n",
    "                if check(row, col):\n",
    "                    board[row]=col\n",
    "                    col=0\n",
    "                    break\n",
    "                else:\n",
    "                    col+=1\n",
    "            if board[row]==-1:             \n",
    "                if row==0:\n",
    "                    break\n",
    "                else:\n",
    "                    row-=1               \n",
    "                    col=board[row]+1\n",
    "                    board[row]=-1                    \n",
    "                    continue\n",
    "            if row==n-1:\n",
    "                sum+=1\n",
    "                col=board[row]+1\n",
    "                board[row]=-1\n",
    "                continue\n",
    "            row+=1\n",
    "        return sum\n"
   ]
  },
  {
   "cell_type": "code",
   "execution_count": 11,
   "metadata": {},
   "outputs": [
    {
     "data": {
      "text/plain": [
       "2"
      ]
     },
     "execution_count": 11,
     "metadata": {},
     "output_type": "execute_result"
    }
   ],
   "source": [
    "s = Solution()\n",
    "s.totalNQueens(4)"
   ]
  },
  {
   "cell_type": "code",
   "execution_count": 12,
   "metadata": {},
   "outputs": [
    {
     "data": {
      "text/plain": [
       "10"
      ]
     },
     "execution_count": 12,
     "metadata": {},
     "output_type": "execute_result"
    }
   ],
   "source": [
    "s.totalNQueens(5)"
   ]
  },
  {
   "cell_type": "code",
   "execution_count": null,
   "metadata": {},
   "outputs": [],
   "source": []
  }
 ],
 "metadata": {
  "kernelspec": {
   "display_name": "Python 3",
   "language": "python",
   "name": "python3"
  },
  "language_info": {
   "codemirror_mode": {
    "name": "ipython",
    "version": 3
   },
   "file_extension": ".py",
   "mimetype": "text/x-python",
   "name": "python",
   "nbconvert_exporter": "python",
   "pygments_lexer": "ipython3",
   "version": "3.6.4"
  }
 },
 "nbformat": 4,
 "nbformat_minor": 2
}
