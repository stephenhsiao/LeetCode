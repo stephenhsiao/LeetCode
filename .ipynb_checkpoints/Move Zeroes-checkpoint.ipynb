{
 "cells": [
  {
   "cell_type": "markdown",
   "metadata": {},
   "source": [
    "# Move Zeros\n",
    "Given an array nums, write a function to move all 0's to the end of it while maintaining the relative order of the non-zero elements.\n",
    "\n",
    "For example, given nums = [0, 1, 0, 3, 12], after calling your function, nums should be [1, 3, 12, 0, 0].\n",
    "\n",
    "Note:\n",
    "You must do this in-place without making a copy of the array.\n",
    "Minimize the total number of operations."
   ]
  },
  {
   "cell_type": "code",
   "execution_count": 81,
   "metadata": {
    "collapsed": false
   },
   "outputs": [],
   "source": [
    "class Solution(object):\n",
    "    def moveZeroes(self, nums):\n",
    "        \"\"\"\n",
    "        :type nums: List[int]\n",
    "        :rtype: void Do not return anything, modify nums in-place instead.\n",
    "        \"\"\"\n",
    "        b = 0\n",
    "        # Find the first 0 in the array\n",
    "        while nums[b] <> 0:          \n",
    "            # print \"b: \", b, \"n: \", nums[b]\n",
    "            b += 1\n",
    "        # Scan the array to find all non-zero elements and move to front\n",
    "        e = b + 1\n",
    "        while e < len (nums):\n",
    "            # print \"e: \", e, \"n: \", nums[e]\n",
    "            if (nums[e] <> 0):\n",
    "                # Move the element to the right position\n",
    "                print \"assign \", e, \"to \", b\n",
    "                nums[b] = nums[e]\n",
    "                b += 1\n",
    "            e += 1\n",
    "        while b < len(nums):\n",
    "            nums[b] = 0\n",
    "            b += 1"
   ]
  },
  {
   "cell_type": "code",
   "execution_count": 82,
   "metadata": {
    "collapsed": false
   },
   "outputs": [],
   "source": [
    "#test the solution\n",
    "a = [1,4,6,0,0,7,12,0,18,0,0,14]"
   ]
  },
  {
   "cell_type": "code",
   "execution_count": 83,
   "metadata": {
    "collapsed": false
   },
   "outputs": [
    {
     "name": "stdout",
     "output_type": "stream",
     "text": [
      "assign  5 to  3\n",
      "assign  6 to  4\n",
      "assign  8 to  5\n",
      "assign  11 to  6\n"
     ]
    }
   ],
   "source": [
    "t = Solution()\n",
    "t.moveZeroes(a)"
   ]
  },
  {
   "cell_type": "code",
   "execution_count": 84,
   "metadata": {
    "collapsed": false
   },
   "outputs": [
    {
     "data": {
      "text/plain": [
       "[1, 4, 6, 7, 12, 18, 14, 0, 0, 0, 0, 0]"
      ]
     },
     "execution_count": 84,
     "metadata": {},
     "output_type": "execute_result"
    }
   ],
   "source": [
    "a"
   ]
  }
 ],
 "metadata": {
  "anaconda-cloud": {},
  "kernelspec": {
   "display_name": "Python [Root]",
   "language": "python",
   "name": "Python [Root]"
  },
  "language_info": {
   "codemirror_mode": {
    "name": "ipython",
    "version": 2
   },
   "file_extension": ".py",
   "mimetype": "text/x-python",
   "name": "python",
   "nbconvert_exporter": "python",
   "pygments_lexer": "ipython2",
   "version": "2.7.12"
  }
 },
 "nbformat": 4,
 "nbformat_minor": 0
}
