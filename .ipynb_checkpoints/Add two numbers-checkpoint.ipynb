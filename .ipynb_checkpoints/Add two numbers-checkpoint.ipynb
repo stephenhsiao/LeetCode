{
 "cells": [
  {
   "cell_type": "markdown",
   "metadata": {},
   "source": [
    "You are given two linked lists representing two non-negative numbers. The digits are stored in reverse order and each of their nodes contain a single digit. Add the two numbers and return it as a linked list.\n",
    "\n",
    "Input: (2 -> 4 -> 3) + (5 -> 6 -> 4)\n",
    "Output: 7 -> 0 -> 8"
   ]
  },
  {
   "cell_type": "code",
   "execution_count": 183,
   "metadata": {
    "collapsed": false
   },
   "outputs": [],
   "source": [
    "# Defiine the ListNost\n",
    "class ListNode:\n",
    "    def __init__(self, x):\n",
    "        self.val = x\n",
    "        self.next = None\n",
    "        \n",
    "    def insert(self, item):\n",
    "        new = ListNode(self.val)\n",
    "        new.next = self.next\n",
    "        self.next = new\n",
    "        self.val = item\n",
    "\n",
    "    def display(self):\n",
    "        a = self\n",
    "        while a.next:\n",
    "            print a.val,\n",
    "            a = a.next\n",
    "        print a.val"
   ]
  },
  {
   "cell_type": "code",
   "execution_count": 235,
   "metadata": {
    "collapsed": false
   },
   "outputs": [],
   "source": [
    "a = ListNode(8)\n",
    "a.insert(1)\n",
    "a.insert(4)\n",
    "# a.insert(9)\n",
    "\n",
    "\n",
    "b = ListNode(3)\n",
    "b.insert(4)\n",
    "b.insert(7)\n",
    "b.insert(5)\n"
   ]
  },
  {
   "cell_type": "code",
   "execution_count": 241,
   "metadata": {
    "collapsed": false
   },
   "outputs": [],
   "source": [
    "class Solution:\n",
    "    # @return a ListNode\n",
    "    def addTwoNumbers(self, l1, l2):\n",
    "        if l1 == None: return l2\n",
    "        if l2 == None: return l1\n",
    "        flag = 0\n",
    "        dummy = ListNode(0); p = dummy\n",
    "        while l1 and l2:\n",
    "            p.next = ListNode((l1.val+l2.val+flag) % 10)\n",
    "            flag = (l1.val+l2.val+flag) / 10\n",
    "            l1 = l1.next; l2 = l2.next; p = p.next\n",
    "        if l2:\n",
    "            while l2:\n",
    "                p.next = ListNode((l2.val+flag) % 10)\n",
    "                flag = (l2.val+flag) / 10\n",
    "                l2 = l2.next; p = p.next\n",
    "        if l1:\n",
    "            while l1:\n",
    "                p.next = ListNode((l1.val+flag) % 10)\n",
    "                flag = (l1.val+flag) / 10\n",
    "                l1 = l1.next; p = p.next\n",
    "        if flag == 1: p.next = ListNode(1)\n",
    "        return dummy.next\n",
    "    \n",
    "    def addTwo(self, l1, l2):\n",
    "        if l1 == None: return l2\n",
    "        if l2 == None: return l1\n",
    "        a = ListNode((l1.val + l2.val) % 10); ans = a\n",
    "        car = (l1.val + l2.val) / 10\n",
    "        l1=l1.next; l2=l2.next\n",
    "        while l1 and l2:\n",
    "            a.next = ListNode((l1.val + l2.val + car) % 10)\n",
    "            car = (l1.val + l2.val + car ) / 10\n",
    "            l1 = l1.next\n",
    "            l2 = l2.next\n",
    "            a = a.next\n",
    "            \n",
    "        if l2:\n",
    "            while l2:\n",
    "                a.next = ListNode((l2.val + car) % 10)\n",
    "                car = (l2.val + car) / 10\n",
    "                l2 = l2.next; a = a.next\n",
    "                \n",
    "                \n",
    "        if l1:\n",
    "            while l1:\n",
    "                a.next = ListNode((l1.val + car) % 10)\n",
    "                car = (l1.val + car) / 10\n",
    "                l1 = l1.next; a = a.next\n",
    "                \n",
    "        if car == 1: a.next = ListNode(1)\n",
    "        return ans"
   ]
  },
  {
   "cell_type": "code",
   "execution_count": 242,
   "metadata": {
    "collapsed": false
   },
   "outputs": [],
   "source": [
    "test = Solution()\n",
    "ans = test.addTwo(a,b)"
   ]
  },
  {
   "cell_type": "code",
   "execution_count": 243,
   "metadata": {
    "collapsed": false
   },
   "outputs": [
    {
     "name": "stdout",
     "output_type": "stream",
     "text": [
      "4 1 8\n",
      "5 7 4 3\n",
      "9 8 2 4\n"
     ]
    }
   ],
   "source": [
    "a.display()\n",
    "b.display()\n",
    "ans.display()"
   ]
  },
  {
   "cell_type": "code",
   "execution_count": null,
   "metadata": {
    "collapsed": true
   },
   "outputs": [],
   "source": []
  }
 ],
 "metadata": {
  "anaconda-cloud": {},
  "kernelspec": {
   "display_name": "Python [Root]",
   "language": "python",
   "name": "Python [Root]"
  },
  "language_info": {
   "codemirror_mode": {
    "name": "ipython",
    "version": 2
   },
   "file_extension": ".py",
   "mimetype": "text/x-python",
   "name": "python",
   "nbconvert_exporter": "python",
   "pygments_lexer": "ipython2",
   "version": "2.7.12"
  }
 },
 "nbformat": 4,
 "nbformat_minor": 0
}
