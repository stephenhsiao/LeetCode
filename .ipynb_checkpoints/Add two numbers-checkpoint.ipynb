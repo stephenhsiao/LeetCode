{
 "cells": [
  {
   "cell_type": "code",
   "execution_count": 129,
   "metadata": {
    "collapsed": false
   },
   "outputs": [],
   "source": [
    "# Defiine the ListNost\n",
    "class ListNode:\n",
    "    def __init__(self, x):\n",
    "        self.val = x\n",
    "        self.next = None\n",
    "        \n",
    "    def insert(self, item):\n",
    "        new = ListNode(self.val)\n",
    "        new.next = self.next\n",
    "        self.next = new\n",
    "        self.val = item\n",
    "\n",
    "    def display(self):\n",
    "        a = self\n",
    "        while a:\n",
    "            print a.val,\n",
    "            a = a.next\n",
    "        print"
   ]
  },
  {
   "cell_type": "code",
   "execution_count": 134,
   "metadata": {
    "collapsed": false
   },
   "outputs": [
    {
     "name": "stdout",
     "output_type": "stream",
     "text": [
      "7 4 1 8\n",
      "13 12 34 3\n"
     ]
    }
   ],
   "source": [
    "a = ListNode(8)\n",
    "a.insert(1)\n",
    "a.insert(4)\n",
    "a.insert(7)\n",
    "a.display()\n",
    "\n",
    "b = ListNode(3)\n",
    "b.insert(34)\n",
    "b.insert(12)\n",
    "b.insert(13)\n",
    "b.display()"
   ]
  },
  {
   "cell_type": "code",
   "execution_count": 135,
   "metadata": {
    "collapsed": false
   },
   "outputs": [],
   "source": [
    "class Solution:\n",
    "    # @return a ListNode\n",
    "    def addTwoNumbers(self, l1, l2):\n",
    "        if l1 == None: return l2\n",
    "        if l2 == None: return l1\n",
    "        flag = 0\n",
    "        dummy = ListNode(0); p = dummy\n",
    "        while l1 and l2:\n",
    "            p.next = ListNode((l1.val+l2.val+flag) % 10)\n",
    "            flag = (l1.val+l2.val+flag) / 10\n",
    "            l1 = l1.next; l2 = l2.next; p = p.next\n",
    "        if l2:\n",
    "            while l2:\n",
    "                p.next = ListNode((l2.val+flag) % 10)\n",
    "                flag = (l2.val+flag) / 10\n",
    "                l2 = l2.next; p = p.next\n",
    "        if l1:\n",
    "            while l1:\n",
    "                p.next = ListNode((l1.val+flag) % 10)\n",
    "                flag = (l1.val+flag) / 10\n",
    "                l1 = l1.next; p = p.next\n",
    "        if flag == 1: p.next = ListNode(1)\n",
    "        return dummy.next\n",
    "    \n",
    "    "
   ]
  },
  {
   "cell_type": "code",
   "execution_count": 136,
   "metadata": {
    "collapsed": false
   },
   "outputs": [],
   "source": [
    "test = Solution()\n",
    "ans = test.addTwoNumbers(a,b)"
   ]
  },
  {
   "cell_type": "code",
   "execution_count": 137,
   "metadata": {
    "collapsed": false
   },
   "outputs": [
    {
     "name": "stdout",
     "output_type": "stream",
     "text": [
      "0 8 6 4 1\n"
     ]
    }
   ],
   "source": [
    "ans.display()"
   ]
  },
  {
   "cell_type": "code",
   "execution_count": null,
   "metadata": {
    "collapsed": true
   },
   "outputs": [],
   "source": []
  }
 ],
 "metadata": {
  "anaconda-cloud": {},
  "kernelspec": {
   "display_name": "Python [Root]",
   "language": "python",
   "name": "Python [Root]"
  },
  "language_info": {
   "codemirror_mode": {
    "name": "ipython",
    "version": 2
   },
   "file_extension": ".py",
   "mimetype": "text/x-python",
   "name": "python",
   "nbconvert_exporter": "python",
   "pygments_lexer": "ipython2",
   "version": "2.7.12"
  }
 },
 "nbformat": 4,
 "nbformat_minor": 0
}
