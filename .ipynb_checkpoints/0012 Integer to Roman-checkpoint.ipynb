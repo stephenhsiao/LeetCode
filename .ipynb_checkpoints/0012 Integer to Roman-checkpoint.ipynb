{
 "cells": [
  {
   "cell_type": "markdown",
   "metadata": {},
   "source": [
    "# Integer to Roman\n",
    "\n",
    "Given an integer, convert it to a roman numeral.\n",
    "\n",
    "Input is guaranteed to be within the range from 1 to 3999.\n",
    "\n",
    "## How Roman Numeral works\n",
    "### Roman digits\n",
    "I: 1  \n",
    "V: 5  \n",
    "X: 10  \n",
    "L: 50  \n",
    "C: 100  \n",
    "D: 500  \n",
    "M: 1000  \n",
    "\n",
    "### Rules\n",
    "You keep repeating the digit until you need to repeat it more than 3 times, then use the next digit.  \n",
    "Thus, if a smaller digit apears first, you substract it.\n",
    "\n",
    "### Examples\n",
    "I: 1  \n",
    "IV: 4  \n",
    "V: 5  \n",
    "IX: 9  \n",
    "X: 10  \n",
    "XL: 40  \n",
    "L: 50  \n",
    "XC: 90  \n",
    "C: 100  \n",
    "CD: 400  \n",
    "D: 500  \n",
    "CM: 900  \n",
    "M: 1000  \n"
   ]
  },
  {
   "cell_type": "code",
   "execution_count": 1,
   "metadata": {},
   "outputs": [],
   "source": [
    "class Solution:\n",
    "    # @return a string\n",
    "    def intToRoman(self, num):\n",
    "        values = [ 1000, 900, 500, 400, 100, 90, 50, 40, 10, 9, 5, 4, 1 ]\n",
    "        numerals = [ \"M\", \"CM\", \"D\", \"CD\", \"C\", \"XC\", \"L\", \"XL\", \"X\", \"IX\", \"V\", \"IV\", \"I\" ]\n",
    "        list = ''\n",
    "        for i in range(0, len(values)):\n",
    "            while num >= values[i]:\n",
    "                num -= values[i]\n",
    "                list += numerals[i]\n",
    "        return list"
   ]
  },
  {
   "cell_type": "code",
   "execution_count": 6,
   "metadata": {},
   "outputs": [
    {
     "data": {
      "text/plain": [
       "'CMXCIX'"
      ]
     },
     "execution_count": 6,
     "metadata": {},
     "output_type": "execute_result"
    }
   ],
   "source": [
    "# test cases\n",
    "s = Solution()\n",
    "s.intToRoman(999)"
   ]
  },
  {
   "cell_type": "code",
   "execution_count": null,
   "metadata": {},
   "outputs": [],
   "source": []
  }
 ],
 "metadata": {
  "kernelspec": {
   "display_name": "Python 3",
   "language": "python",
   "name": "python3"
  },
  "language_info": {
   "codemirror_mode": {
    "name": "ipython",
    "version": 3
   },
   "file_extension": ".py",
   "mimetype": "text/x-python",
   "name": "python",
   "nbconvert_exporter": "python",
   "pygments_lexer": "ipython3",
   "version": "3.6.4"
  }
 },
 "nbformat": 4,
 "nbformat_minor": 2
}
