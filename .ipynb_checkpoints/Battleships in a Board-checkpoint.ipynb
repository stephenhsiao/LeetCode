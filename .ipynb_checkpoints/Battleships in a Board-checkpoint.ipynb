{
 "cells": [
  {
   "cell_type": "markdown",
   "metadata": {},
   "source": [
    "# Battleships in a Board\n",
    "\n",
    "Given an 2D board, count how many different battleships are in it. The battleships are represented with 'X's, empty slots are represented with '.'s. You may assume the following rules:\n",
    "\n",
    "* You receive a valid board, made of only battleships or empty slots.\n",
    "* Battleships can only be placed horizontally or vertically. In other words, they can only be made of the shape 1xN (1 row, N columns) or Nx1 (N rows, 1 column), where N can be of any size.\n",
    "* At least one horizontal or vertical cell separates between two battleships - there are no adjacent battleships.\n",
    "\n",
    "** Examples: **\n",
    "\n",
    "``X..X``  \n",
    "``...X``  \n",
    "``...X``  \n",
    "\n",
    "In the above board there are 2 battleships.\n",
    "\n",
    "**Invalid Example:**\n",
    "\n",
    "``...X``  \n",
    "``XXXX``  \n",
    "``...X``  \n",
    "\n",
    "This is not a valid board - as battleships will always have a cell separating between them."
   ]
  },
  {
   "cell_type": "code",
   "execution_count": 10,
   "metadata": {
    "collapsed": true
   },
   "outputs": [],
   "source": [
    "# Class definitions\n",
    "class Solution(object):\n",
    "    # Count the top/left corner of each ship.\n",
    "    def countBattleships(self, board):\n",
    "        \"\"\"\n",
    "        :type board: List[List[str]]\n",
    "        :rtype: int\n",
    "        \"\"\"\n",
    "        if len(board) == 0: return 0\n",
    "        m, n = len(board), len(board[0])\n",
    "        count = 0\n",
    "        for i in range(m):\n",
    "            for j in range(n):\n",
    "                # See if it is vliad                \n",
    "                if board[i][j] == 'X' and (i > 0 and board[i-1][j] == 'X') and (j > 0 and board[i][j-1] == 'X'):\n",
    "                    return 0\n",
    "                # Count the top/left corner of each ship\n",
    "                if board[i][j] == 'X' and (i == 0 or board[i-1][j] == '.') and (j == 0 or board[i][j-1] == '.'):\n",
    "                    count += 1\n",
    "        return count"
   ]
  },
  {
   "cell_type": "code",
   "execution_count": 11,
   "metadata": {
    "collapsed": false
   },
   "outputs": [],
   "source": [
    "# Test Case\n",
    "t1 =[['X','.','.','X'],['.','.','.','X'],['.','.','.','X']]\n",
    "t2 =[['X','.','.','X'],['.','.','X','.'],['.','.','.','X']]\n",
    "t3 = [['.','.','.','X'],['X','X','X','X'],['.','.','.','X']]"
   ]
  },
  {
   "cell_type": "code",
   "execution_count": 12,
   "metadata": {
    "collapsed": false
   },
   "outputs": [
    {
     "name": "stdout",
     "output_type": "stream",
     "text": [
      "test case1:  2\n",
      "test case2:  4\n",
      "test case3:  0\n"
     ]
    }
   ],
   "source": [
    "a = Solution()\n",
    "print \"test case1: \", a.countBattleships(t1)\n",
    "print \"test case2: \", a.countBattleships(t2)\n",
    "print \"test case3: \", a.countBattleships(t3)"
   ]
  },
  {
   "cell_type": "code",
   "execution_count": null,
   "metadata": {
    "collapsed": true
   },
   "outputs": [],
   "source": []
  }
 ],
 "metadata": {
  "kernelspec": {
   "display_name": "Python [Root]",
   "language": "python",
   "name": "Python [Root]"
  },
  "language_info": {
   "codemirror_mode": {
    "name": "ipython",
    "version": 2
   },
   "file_extension": ".py",
   "mimetype": "text/x-python",
   "name": "python",
   "nbconvert_exporter": "python",
   "pygments_lexer": "ipython2",
   "version": "2.7.12"
  }
 },
 "nbformat": 4,
 "nbformat_minor": 0
}
