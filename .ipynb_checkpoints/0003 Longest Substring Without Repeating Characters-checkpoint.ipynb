{
 "cells": [
  {
   "cell_type": "markdown",
   "metadata": {},
   "source": [
    "# Longest Substring Without Repeating Characters\n",
    "Given a string, find the length of the longest substring without repeating characters.\n",
    "\n",
    "## Examples:\n",
    "\n",
    "Given <font color='red'>\"abcabcbb\"</font>, the answer is <font color='red'>\"abc\"</font>, which the length is 3.\n",
    "\n",
    "Given <font color='red'>\"bbbbb\"</font>, the answer is <font color='red'>\"b\"</font>, with the length of 1.\n",
    "\n",
    "Given <font color='red'>\"pwwkew\"</font>, the answer is <font color='red'>\"wke\"</font>, with the length of 3. Note that the answer must be a **substring**, <font color='red'>\"pwke\"</font> is a *subsequence* and not a substring.\n",
    "\n"
   ]
  },
  {
   "cell_type": "code",
   "execution_count": 1,
   "metadata": {},
   "outputs": [],
   "source": [
    "class Solution:\n",
    "    def lengthOfLongestSubstring(self, s):\n",
    "        \"\"\"\n",
    "        :type s: str\n",
    "        :rtype: int\n",
    "        \"\"\""
   ]
  },
  {
   "cell_type": "code",
   "execution_count": null,
   "metadata": {},
   "outputs": [],
   "source": [
    "t = Solution()\n",
    "t.lengthOfLongestSubstring()"
   ]
  }
 ],
 "metadata": {
  "kernelspec": {
   "display_name": "Python 3",
   "language": "python",
   "name": "python3"
  },
  "language_info": {
   "codemirror_mode": {
    "name": "ipython",
    "version": 3
   },
   "file_extension": ".py",
   "mimetype": "text/x-python",
   "name": "python",
   "nbconvert_exporter": "python",
   "pygments_lexer": "ipython3",
   "version": "3.6.4"
  }
 },
 "nbformat": 4,
 "nbformat_minor": 2
}
