{
 "cells": [
  {
   "cell_type": "markdown",
   "metadata": {},
   "source": [
    "# Median of Two Sorted Arrays\n",
    "\n",
    "There are two sorted arrays nums1 and nums2 of size m and n respectively.\n",
    "\n",
    "Find the median of the two sorted arrays. The overall run time complexity should be O(log (m+n)).\n",
    "\n",
    "## Example 1:\n",
    "nums1 = [1, 3]\n",
    "nums2 = [2]\n",
    "\n",
    "The median is 2.0\n",
    "\n",
    "## Example 2:\n",
    "nums1 = [1, 2]\n",
    "nums2 = [3, 4]\n",
    "\n",
    "The median is (2 + 3)/2 = 2.5\n",
    "    "
   ]
  },
  {
   "cell_type": "markdown",
   "metadata": {},
   "source": [
    "# Analysis:\n",
    "\n",
    "Note that the definition of the Median:\n",
    "(1) If the size of the sequence N is odd: N/2+1th element is median.\n",
    "(1) If the size of the sequence N is even: average of the N/2th and N/2+1th element is median.\n",
    "\n",
    "So in this problem, median of the two sorted arrays is the (m+n)/2+1 th element (if m+n is odd), the average of (m+n)/2 th and (m+n)/2+1 th  (if m+n is even).\n",
    "E.g.,  [1,2,3],[5,6,7], the median is (3+5)/2 = 4.0.\n",
    "          [1,2,3,4], [1,3,5,7,9], the median is 3.\n",
    "\n",
    "Our task becomes finding the Kth (K or K+1, K=(m+n)/2) number in two sorted arrays, in O(log(m+n)) time constraint (what's in your mind to see log? Yes, binary search).\n",
    "\n",
    "Similar to but slight different from binary search, we still divide K into two halves each time. Two pointers are used for each array, so that we can compare which side is smaller (?A[pa]>B[pb]).\n",
    "E.g., A = [1,3,5,7,9]  B = [2,4,8,10,12,14,16,18]. K=(5+8) /2= 6.\n",
    "\n",
    "pa = K/2 = 3;\n",
    "pb = K-pa = 3;\n",
    "         pa \n",
    "A[1,3,5,7,9]\n",
    "         pb\n",
    "B[2,4,8,10,12,14,16,18]\n",
    "\n",
    "if (A[pa]<B[pb]), which means the elements from A[0] to A[pa] must exist in the first Kth elements.\n",
    "The next step now becomes finding the (K-pa) th (equals to K/2) element in the array A[pa:end] and B[].  This procedure can be viewed as \"cutting\" K/2 elements from the \"smaller\" array, and continue find the other K/2 th elements from the \"bigger\" array and the array after the cut. Note that smaller and bigger here is the comparison of the last elements.\n",
    "\n",
    "if (A[pa]>B[pb]), the same procedure is applied but we \"cut\" the B array.\n",
    "\n",
    "In this way, every time we have \"cut\" K/2 elements from one of the arrays, the next time is to cut (K/2) /2 elements from the new arrays, until:\n",
    "(1) K=1, the smaller one from A[0] and B[0] is the \"Kth element\".\n",
    "(2) One of the array meets the end. Then just return the current Kth element from the other array.\n",
    "\n",
    "\n",
    "\n",
    "Misc. In C++, the array pointer is relative easy, (1) the array alone name represents the pointer pointed to the first element of the array, and pointer+n points to the nth element of the array. e.g.\n",
    "double [3] arr = {1.0,2.0,3.0};\n",
    "double *p = arr;        // *p=arr[0]=1.0;\n",
    "p=p+2;                     //*p=arr[2]=3.0;"
   ]
  },
  {
   "cell_type": "code",
   "execution_count": 11,
   "metadata": {},
   "outputs": [],
   "source": [
    "# test cases\n",
    "a= [1,2,5,7,9,33,39,45,99]\n",
    "b= [4,6,13,32,100]"
   ]
  },
  {
   "cell_type": "code",
   "execution_count": 27,
   "metadata": {},
   "outputs": [],
   "source": [
    "'''\n",
    "Python 3 and Python 2 are different.\n",
    "In Python 3.0, 5 / 2 will return 2.5 and 5 // 2 will return 2. \n",
    "The former is floating point division, and the latter is floor division (integer division).\n",
    "'''\n",
    "\n",
    "class Solution:\n",
    "    def findMedianSortedArrays(self, A, B):\n",
    "        if (len(A) + len(B)) % 2 == 0:\n",
    "            return (self.fms(A, B, (len(A) + len(B))//2) + self.fms(A, B, (len(A) + len(B))//2 + 1))/2.0\n",
    "        else:\n",
    "            return self.fms(A, B, (len(A) + len(B))//2 + 1)\n",
    "    \n",
    "    def fms(self, A, B, k):\n",
    "        if len(A) > len(B):\n",
    "            return self.fms(B, A, k)\n",
    "        else:\n",
    "            if len(A) == 0:\n",
    "                return B[k-1]\n",
    "            if k == 1:\n",
    "                return min(A[0], B[0])\n",
    "            \n",
    "            pa = min(k//2, len(A))\n",
    "            pb = k - pa\n",
    "            if A[pa-1] <= B[pb-1]:\n",
    "                return self.fms(A[pa::], B, k-pa)\n",
    "            else:\n",
    "                return self.fms(A, B[pb::], k-pb)"
   ]
  },
  {
   "cell_type": "code",
   "execution_count": 28,
   "metadata": {},
   "outputs": [
    {
     "name": "stdout",
     "output_type": "stream",
     "text": [
      "11.0\n"
     ]
    }
   ],
   "source": [
    "# test the routine\n",
    "s = Solution()\n",
    "ans = s.findMedianSortedArrays(a, b)\n",
    "print (ans)"
   ]
  },
  {
   "cell_type": "code",
   "execution_count": 29,
   "metadata": {},
   "outputs": [
    {
     "data": {
      "text/plain": [
       "[1, 2, 4, 5, 6, 7, 9, 13, 32, 33, 39, 45, 99, 100]"
      ]
     },
     "execution_count": 29,
     "metadata": {},
     "output_type": "execute_result"
    }
   ],
   "source": [
    "# Validate the results\n",
    "# Fist, join the two list and sort them\n",
    "all = a + b\n",
    "all.sort()\n",
    "all"
   ]
  },
  {
   "cell_type": "code",
   "execution_count": 25,
   "metadata": {},
   "outputs": [
    {
     "data": {
      "text/plain": [
       "11.0"
      ]
     },
     "execution_count": 25,
     "metadata": {},
     "output_type": "execute_result"
    }
   ],
   "source": [
    "# Use the library to find median\n",
    "import numpy as np\n",
    "np.median(all)"
   ]
  },
  {
   "cell_type": "code",
   "execution_count": null,
   "metadata": {},
   "outputs": [],
   "source": []
  },
  {
   "cell_type": "code",
   "execution_count": null,
   "metadata": {},
   "outputs": [],
   "source": []
  }
 ],
 "metadata": {
  "anaconda-cloud": {},
  "kernelspec": {
   "display_name": "Python 3",
   "language": "python",
   "name": "python3"
  },
  "language_info": {
   "codemirror_mode": {
    "name": "ipython",
    "version": 3
   },
   "file_extension": ".py",
   "mimetype": "text/x-python",
   "name": "python",
   "nbconvert_exporter": "python",
   "pygments_lexer": "ipython3",
   "version": "3.6.4"
  }
 },
 "nbformat": 4,
 "nbformat_minor": 1
}
