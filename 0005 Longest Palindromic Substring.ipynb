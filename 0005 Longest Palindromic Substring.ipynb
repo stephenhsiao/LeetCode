{
 "cells": [
  {
   "cell_type": "markdown",
   "metadata": {},
   "source": [
    "# Longest Palindromic Substring\n",
    "Given a string s, find the longest palindromic substring in s. You may assume that the maximum length of s is 1000.\n",
    "\n",
    "## Example:\n",
    "Input: \"babad\"\n",
    "\n",
    "Output: \"bab\"\n",
    "\n",
    "Note: \"aba\" is also a valid answer.\n",
    "\n",
    "## Example:\n",
    "Input: \"cbbd\"\n",
    "\n",
    "Output: \"bb\""
   ]
  },
  {
   "cell_type": "code",
   "execution_count": 11,
   "metadata": {},
   "outputs": [],
   "source": [
    "# test cases\n",
    "a= \"babad\"\n",
    "b= \"cbdb\""
   ]
  },
  {
   "cell_type": "code",
   "execution_count": 36,
   "metadata": {},
   "outputs": [],
   "source": [
    "'''\n",
    "Consider the case \\textrm{''ababa''}”ababa”. \n",
    "If we already knew that \\textrm{''bab''}”bab” is a palindrome, \n",
    "it is obvious that \\textrm{''ababa''}”ababa” must be a palindrome since the two left and right end letters are the same.\n",
    "'''\n",
    "\n",
    "class Solution(object):\n",
    "    def getlongestpalindrome(self, s, l, r):\n",
    "        while l >= 0 and r < len(s) and s[l] == s[r]:\n",
    "            l -= 1; r += 1\n",
    "        return s[l+1 : r]\n",
    "    \n",
    "    def longestPalindrome(self, s):\n",
    "        palindrome = ''\n",
    "        for i in range(len(s)):\n",
    "            print(i)\n",
    "            len1 = len(self.getlongestpalindrome(s, i, i))\n",
    "            if len1 > len(palindrome): \n",
    "                palindrome = self.getlongestpalindrome(s, i, i)\n",
    "                print(\"L:\", palindrome)\n",
    "            len2 = len(self.getlongestpalindrome(s, i, i + 1))\n",
    "            if len2 > len(palindrome): \n",
    "                palindrome = self.getlongestpalindrome(s, i, i + 1)\n",
    "                print(\"R:\", palindrome)\n",
    "        return palindrome\n",
    "        "
   ]
  },
  {
   "cell_type": "code",
   "execution_count": 37,
   "metadata": {},
   "outputs": [
    {
     "name": "stdout",
     "output_type": "stream",
     "text": [
      "0\n",
      "L: b\n",
      "1\n",
      "L: bab\n",
      "2\n",
      "3\n",
      "4\n"
     ]
    },
    {
     "data": {
      "text/plain": [
       "'bab'"
      ]
     },
     "execution_count": 37,
     "metadata": {},
     "output_type": "execute_result"
    }
   ],
   "source": [
    "s=Solution()\n",
    "s.longestPalindrome(a)"
   ]
  },
  {
   "cell_type": "code",
   "execution_count": 34,
   "metadata": {},
   "outputs": [
    {
     "name": "stdout",
     "output_type": "stream",
     "text": [
      "L: c\n",
      "L: bdb\n"
     ]
    },
    {
     "data": {
      "text/plain": [
       "'bdb'"
      ]
     },
     "execution_count": 34,
     "metadata": {},
     "output_type": "execute_result"
    }
   ],
   "source": [
    "s.longestPalindrome(b)"
   ]
  },
  {
   "cell_type": "code",
   "execution_count": 35,
   "metadata": {},
   "outputs": [
    {
     "name": "stdout",
     "output_type": "stream",
     "text": [
      "L: a\n",
      "L: dabad\n"
     ]
    },
    {
     "data": {
      "text/plain": [
       "'dabad'"
      ]
     },
     "execution_count": 35,
     "metadata": {},
     "output_type": "execute_result"
    }
   ],
   "source": [
    "s.longestPalindrome(\"abdceudabaddbadfadge\")"
   ]
  },
  {
   "cell_type": "code",
   "execution_count": null,
   "metadata": {},
   "outputs": [],
   "source": []
  }
 ],
 "metadata": {
  "kernelspec": {
   "display_name": "Python 3",
   "language": "python",
   "name": "python3"
  },
  "language_info": {
   "codemirror_mode": {
    "name": "ipython",
    "version": 3
   },
   "file_extension": ".py",
   "mimetype": "text/x-python",
   "name": "python",
   "nbconvert_exporter": "python",
   "pygments_lexer": "ipython3",
   "version": "3.6.4"
  }
 },
 "nbformat": 4,
 "nbformat_minor": 2
}
