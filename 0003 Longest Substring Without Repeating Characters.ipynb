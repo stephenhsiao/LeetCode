{
 "cells": [
  {
   "cell_type": "markdown",
   "metadata": {},
   "source": [
    "# Longest Substring Without Repeating Characters\n",
    "Given a string, find the length of the longest substring without repeating characters.\n",
    "\n",
    "## Examples:\n",
    "\n",
    "Given <font color='red'>\"abcabcbb\"</font>, the answer is <font color='red'>\"abc\"</font>, which the length is 3.\n",
    "\n",
    "Given <font color='red'>\"bbbbb\"</font>, the answer is <font color='red'>\"b\"</font>, with the length of 1.\n",
    "\n",
    "Given <font color='red'>\"pwwkew\"</font>, the answer is <font color='red'>\"wke\"</font>, with the length of 3. Note that the answer must be a **substring**, <font color='red'>\"pwke\"</font> is a *subsequence* and not a substring.\n",
    "\n"
   ]
  },
  {
   "cell_type": "code",
   "execution_count": 22,
   "metadata": {},
   "outputs": [],
   "source": [
    "class Solution:\n",
    "    def lengthOfLongestSubstring(self, s):\n",
    "        \"\"\"\n",
    "        :type s: str\n",
    "        :rtype: int\n",
    "        \"\"\"\n",
    "        ans, start, end = 0, 0, 0\n",
    "        countDict = {}\n",
    "        for c in s:\n",
    "            print(c, ans, end-start, countDict)\n",
    "            end += 1\n",
    "            countDict[c] = countDict.get(c, 0) + 1\n",
    "            while countDict[c] > 1:\n",
    "                countDict[s[start]] -= 1\n",
    "                start += 1\n",
    "            ans = max(ans, end - start)\n",
    "        return ans"
   ]
  },
  {
   "cell_type": "code",
   "execution_count": 23,
   "metadata": {},
   "outputs": [
    {
     "name": "stdout",
     "output_type": "stream",
     "text": [
      "a 0 0 {}\n",
      "b 1 1 {'a': 1}\n",
      "c 2 2 {'a': 1, 'b': 1}\n",
      "a 3 3 {'a': 1, 'b': 1, 'c': 1}\n",
      "b 3 3 {'a': 1, 'b': 1, 'c': 1}\n",
      "c 3 3 {'a': 1, 'b': 1, 'c': 1}\n",
      "b 3 3 {'a': 1, 'b': 1, 'c': 1}\n",
      "b 3 2 {'a': 0, 'b': 1, 'c': 1}\n"
     ]
    },
    {
     "data": {
      "text/plain": [
       "3"
      ]
     },
     "execution_count": 23,
     "metadata": {},
     "output_type": "execute_result"
    }
   ],
   "source": [
    "t = Solution()\n",
    "t.lengthOfLongestSubstring(\"abcabcbb\")\n"
   ]
  },
  {
   "cell_type": "code",
   "execution_count": 24,
   "metadata": {},
   "outputs": [
    {
     "name": "stdout",
     "output_type": "stream",
     "text": [
      "b 0 0 {}\n",
      "b 1 1 {'b': 1}\n",
      "b 1 1 {'b': 1}\n",
      "b 1 1 {'b': 1}\n",
      "b 1 1 {'b': 1}\n"
     ]
    },
    {
     "data": {
      "text/plain": [
       "1"
      ]
     },
     "execution_count": 24,
     "metadata": {},
     "output_type": "execute_result"
    }
   ],
   "source": [
    "t.lengthOfLongestSubstring(\"bbbbb\")"
   ]
  },
  {
   "cell_type": "code",
   "execution_count": 25,
   "metadata": {},
   "outputs": [
    {
     "name": "stdout",
     "output_type": "stream",
     "text": [
      "p 0 0 {}\n",
      "w 1 1 {'p': 1}\n",
      "w 2 2 {'p': 1, 'w': 1}\n",
      "k 2 1 {'p': 0, 'w': 1}\n",
      "e 2 2 {'p': 0, 'w': 1, 'k': 1}\n",
      "w 3 3 {'p': 0, 'w': 1, 'k': 1, 'e': 1}\n"
     ]
    },
    {
     "data": {
      "text/plain": [
       "3"
      ]
     },
     "execution_count": 25,
     "metadata": {},
     "output_type": "execute_result"
    }
   ],
   "source": [
    "t.lengthOfLongestSubstring(\"pwwkew\")"
   ]
  },
  {
   "cell_type": "code",
   "execution_count": null,
   "metadata": {},
   "outputs": [],
   "source": []
  }
 ],
 "metadata": {
  "kernelspec": {
   "display_name": "Python 3",
   "language": "python",
   "name": "python3"
  },
  "language_info": {
   "codemirror_mode": {
    "name": "ipython",
    "version": 3
   },
   "file_extension": ".py",
   "mimetype": "text/x-python",
   "name": "python",
   "nbconvert_exporter": "python",
   "pygments_lexer": "ipython3",
   "version": "3.6.4"
  }
 },
 "nbformat": 4,
 "nbformat_minor": 2
}
