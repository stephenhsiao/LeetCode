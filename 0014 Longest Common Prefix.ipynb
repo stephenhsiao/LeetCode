{
 "cells": [
  {
   "cell_type": "markdown",
   "metadata": {},
   "source": [
    "# Longest Common Prefix\n",
    "    Write a function to find the longest common prefix string amongst an array of strings."
   ]
  },
  {
   "cell_type": "code",
   "execution_count": 81,
   "metadata": {},
   "outputs": [],
   "source": [
    "class Solution:\n",
    "    def longestCommonPrefix(self, strs):\n",
    "        \"\"\"\n",
    "        :type strs: List[str]\n",
    "        :rtype: str\n",
    "        \"\"\"\n",
    "        print(\"check\", strs)\n",
    "        n = len(strs)\n",
    "        if (n ==0):\n",
    "           return \"\"\n",
    "        elif (n == 1):\n",
    "            return strs[0]\n",
    "        elif (n == 2):\n",
    "            return self.longestPrefix(strs[0], strs[1])\n",
    "        else:\n",
    "            a = self.longestCommonPrefix(strs[: n//2])\n",
    "            b = self.longestCommonPrefix(strs[n//2:])\n",
    "            return self.longestPrefix(a,b)\n",
    "    \n",
    "    def longestPrefix(self, a, b):\n",
    "        i = 0\n",
    "        if (len(a) == 0 or len(b) == 0):\n",
    "            return \"\"\n",
    "        while (i < len(a) and i < len(b) and a[i] == b[i]):\n",
    "            i += 1\n",
    "        # print(\"return:\", i, a[0:i])\n",
    "        return a[0:i]"
   ]
  },
  {
   "cell_type": "code",
   "execution_count": 80,
   "metadata": {},
   "outputs": [
    {
     "name": "stdout",
     "output_type": "stream",
     "text": [
      "check ['abc', 'abd', 'abcde', 'abcdf', 'abcdef', '']\n",
      "check ['abc', 'abd', 'abcde']\n",
      "check ['abc']\n",
      "check ['abd', 'abcde']\n",
      "check ['abcdf', 'abcdef', '']\n",
      "check ['abcdf']\n",
      "check ['abcdef', '']\n"
     ]
    },
    {
     "data": {
      "text/plain": [
       "''"
      ]
     },
     "execution_count": 80,
     "metadata": {},
     "output_type": "execute_result"
    }
   ],
   "source": [
    "t = [\"abc\", \"abd\", \"abcde\", \"abcdf\", \"abcdef\", \"\"]\n",
    "s = Solution()\n",
    "s.longestCommonPrefix(t)"
   ]
  },
  {
   "cell_type": "code",
   "execution_count": null,
   "metadata": {},
   "outputs": [],
   "source": []
  },
  {
   "cell_type": "code",
   "execution_count": null,
   "metadata": {},
   "outputs": [],
   "source": []
  }
 ],
 "metadata": {
  "kernelspec": {
   "display_name": "Python 3",
   "language": "python",
   "name": "python3"
  },
  "language_info": {
   "codemirror_mode": {
    "name": "ipython",
    "version": 3
   },
   "file_extension": ".py",
   "mimetype": "text/x-python",
   "name": "python",
   "nbconvert_exporter": "python",
   "pygments_lexer": "ipython3",
   "version": "3.6.4"
  }
 },
 "nbformat": 4,
 "nbformat_minor": 2
}
