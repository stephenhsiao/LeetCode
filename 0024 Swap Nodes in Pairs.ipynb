{
 "cells": [
  {
   "cell_type": "markdown",
   "metadata": {},
   "source": [
    "# Swap Nodes in Pairs\n",
    "\n",
    "Given a linked list, swap every two adjacent nodes and return its head.\n",
    "\n",
    "For example,\n",
    "Given 1->2->3->4, you should return the list as 2->1->4->3.\n",
    "\n",
    "Your algorithm should use only constant space. You may not modify the values in the list, only nodes itself can be changed."
   ]
  },
  {
   "cell_type": "code",
   "execution_count": 4,
   "metadata": {},
   "outputs": [],
   "source": [
    "#3 Definition for singly-linked list.\n",
    "class ListNode:\n",
    "    def __init__(self, x):\n",
    "        self.val = x\n",
    "        self.next = None\n",
    "\n",
    "class Solution:\n",
    "    def swapPairs(self, head):\n",
    "        \"\"\"\n",
    "        :type head: ListNode\n",
    "        :rtype: ListNode\n",
    "        \"\"\"\n",
    "        if head == None or head.next == None:\n",
    "            return head\n",
    "        dummy = ListNode(0); dummy.next = head\n",
    "        p = dummy\n",
    "        while p.next and p.next.next:\n",
    "            tmp = p.next.next\n",
    "            p.next.next = tmp.next\n",
    "            tmp.next = p.next\n",
    "            p.next = tmp\n",
    "            p = p.next.next\n",
    "        return dummy.next"
   ]
  },
  {
   "cell_type": "code",
   "execution_count": 8,
   "metadata": {},
   "outputs": [
    {
     "name": "stdout",
     "output_type": "stream",
     "text": [
      "2\n",
      "1\n",
      "4\n",
      "3\n"
     ]
    }
   ],
   "source": [
    "n1 = ListNode(1)\n",
    "n2 = ListNode(2)\n",
    "n3 = ListNode(3)\n",
    "n4 = ListNode(4)\n",
    "n1.next = n2\n",
    "n2.next = n3\n",
    "n3.next = n4\n",
    "\n",
    "s = Solution()\n",
    "a = s.swapPairs(n1)\n",
    "\n",
    "while a is not None:\n",
    "    print(a.val)\n",
    "    a = a.next  "
   ]
  },
  {
   "cell_type": "code",
   "execution_count": null,
   "metadata": {},
   "outputs": [],
   "source": []
  }
 ],
 "metadata": {
  "kernelspec": {
   "display_name": "Python 3",
   "language": "python",
   "name": "python3"
  },
  "language_info": {
   "codemirror_mode": {
    "name": "ipython",
    "version": 3
   },
   "file_extension": ".py",
   "mimetype": "text/x-python",
   "name": "python",
   "nbconvert_exporter": "python",
   "pygments_lexer": "ipython3",
   "version": "3.6.4"
  }
 },
 "nbformat": 4,
 "nbformat_minor": 2
}
