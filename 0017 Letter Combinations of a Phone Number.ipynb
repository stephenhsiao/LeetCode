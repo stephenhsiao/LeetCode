{
 "cells": [
  {
   "cell_type": "markdown",
   "metadata": {},
   "source": [
    "# Letter Combinations of a Phone Number\n",
    "Given a digit string, return all possible letter combinations that the number could represent.\n",
    "\n",
    "A mapping of digit to letters (just like on the telephone buttons) is given below.\n",
    "\n",
    "**Input:** Digit string \"23\"  \n",
    "**Output:** [\"ad\", \"ae\", \"af\", \"bd\", \"be\", \"bf\", \"cd\", \"ce\", \"cf\"]."
   ]
  },
  {
   "cell_type": "code",
   "execution_count": 31,
   "metadata": {},
   "outputs": [],
   "source": [
    "class Solution:\n",
    "    def letterCombinations(self, digits):\n",
    "        \"\"\"\n",
    "        :type digits: str\n",
    "        :rtype: List[str]\n",
    "        \"\"\"\n",
    "        def dfs(num, string, res):\n",
    "            # print(num, string, res)\n",
    "            if num == length:\n",
    "                res.append(string)\n",
    "                return\n",
    "            for letter in dict[digits[num]]:\n",
    "                dfs(num+1, string+letter, res)\n",
    "        \n",
    "        dict = {\"2\":[\"a\",\"b\",\"c\"],\n",
    "                \"3\":[\"d\",\"e\",\"f\"],\n",
    "                \"4\":[\"g\",\"h\",\"i\"],\n",
    "                \"5\":[\"j\",\"k\",\"l\"],\n",
    "                \"6\":[\"m\",\"n\",\"o\"],\n",
    "                \"7\":[\"p\",\"q\",\"r\",\"s\"],\n",
    "                \"8\":[\"t\",\"u\",\"v\"],\n",
    "                \"9\":[\"w\",\"x\",\"y\",\"z\"]\n",
    "                }\n",
    "        res = []\n",
    "        length = len(digits)\n",
    "        if (length == 0):\n",
    "            return []\n",
    "        dfs(0, '', res)\n",
    "        return res"
   ]
  },
  {
   "cell_type": "code",
   "execution_count": 32,
   "metadata": {},
   "outputs": [
    {
     "data": {
      "text/plain": [
       "[]"
      ]
     },
     "execution_count": 32,
     "metadata": {},
     "output_type": "execute_result"
    }
   ],
   "source": [
    "s = Solution()\n",
    "s.letterCombinations(\"\")"
   ]
  },
  {
   "cell_type": "code",
   "execution_count": null,
   "metadata": {},
   "outputs": [],
   "source": []
  }
 ],
 "metadata": {
  "kernelspec": {
   "display_name": "Python 3",
   "language": "python",
   "name": "python3"
  },
  "language_info": {
   "codemirror_mode": {
    "name": "ipython",
    "version": 3
   },
   "file_extension": ".py",
   "mimetype": "text/x-python",
   "name": "python",
   "nbconvert_exporter": "python",
   "pygments_lexer": "ipython3",
   "version": "3.6.4"
  }
 },
 "nbformat": 4,
 "nbformat_minor": 2
}
